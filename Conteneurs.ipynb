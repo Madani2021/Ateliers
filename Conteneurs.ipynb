{
 "cells": [
  {
   "cell_type": "markdown",
   "metadata": {},
   "source": [
    "<table width='100%' border='0'>\n",
    "    <tr>\n",
    "        <td><img src='images/ucd.png' width='120'></td>\n",
    "        <td><img src='images/dept_inf.png' width='350'></td>\n",
    "        <td><img src='images/fs.png' width='120'></td>\n",
    "    </tr>\n",
    "</table>"
   ]
  },
  {
   "cell_type": "markdown",
   "metadata": {},
   "source": [
    "# Langage Python : Pratique des conteneurs standards\n",
    "\n",
    "Email : <a href='mailto:madani.a@ucd.ac.ma'>madani.a@ucd.ac.ma</a>\n",
    "<img src='images/python.png' width=\"100\">"
   ]
  },
  {
   "cell_type": "markdown",
   "metadata": {},
   "source": [
    "## Exercice 1\n",
    "Définir la liste : liste = [17, 38, 10, 25, 72, 50, 80, 12, 45], puis effectuer les actions suivantes :\n",
    "<ol>\n",
    "    <li>Trier et afficher la liste</li>\n",
    "    <li>Ajouter l’élément 12 à la fin de la liste et afficher la liste</li>\n",
    "    <li>Ajouter l’élément 12 au milieu de la liste et afficher la liste</li>\n",
    "    <li>Ajouter l’élément 12 au début de la liste et afficher la liste</li>\n",
    "    <li>Renverser et afficher la liste</li>\n",
    "    <li>Afficher l’indice de l’élément 17</li>\n",
    "    <li>Enlever l’élément 30 et afficher la liste</li>\n",
    "    <li>Afficher la sous-liste du 2ème au 5ème élément</li>\n",
    "    <li>Afficher la sous-liste du 2ème au dernier élément</li>\n",
    "    <li>Afficher la sous-liste du début au 3ème élément</li>\n",
    "    <li>Vérifier l’appartenance de l’élément 25 dans la liste</li>\n",
    "</ol>"
   ]
  },
  {
   "cell_type": "markdown",
   "metadata": {},
   "source": [
    "## Exercice 2\n",
    "Ecrire les fonctions suivantes :\n",
    "<ol>\n",
    "    <li>remove_punctuation(phrase) : pour éliminer la ponctuation d'une chaîne de caractères ('?' , '!', ',' , '.' , ':' , ';')</li>\n",
    "    <li>lowercase(phrase) : pour convertir une chaîne de caractères en minuscule</li>\n",
    "    <li>term_frequency(phrase) : pour retourner un dictionnaire contenant pour chaque mot sa fréquence</li>\n",
    "    <li>preprocessing(chaine) : qui fait appel aux fonctions ci-dessus</li>\n",
    "    <li>refaire le preprocessing pour un fichier stocké sur le disque</li>\n",
    "</ol> "
   ]
  },
  {
   "cell_type": "markdown",
   "metadata": {},
   "source": [
    "## Exercice 3\n",
    "A partir du DataSet \"Movies.csv\", afficher :\n",
    "1.\tLes noms des films\n",
    "2.\tLes films commençant par 'The'\n",
    "3.\tLes films produits en une année donnée\n",
    "4.\tLe nombre de films produits en une année donnée"
   ]
  }
 ],
 "metadata": {
  "kernelspec": {
   "display_name": "Python 3",
   "language": "python",
   "name": "python3"
  },
  "language_info": {
   "codemirror_mode": {
    "name": "ipython",
    "version": 3
   },
   "file_extension": ".py",
   "mimetype": "text/x-python",
   "name": "python",
   "nbconvert_exporter": "python",
   "pygments_lexer": "ipython3",
   "version": "3.8.3"
  }
 },
 "nbformat": 4,
 "nbformat_minor": 4
}
