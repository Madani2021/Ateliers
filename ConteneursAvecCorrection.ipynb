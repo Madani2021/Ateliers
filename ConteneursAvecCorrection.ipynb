{
 "cells": [
  {
   "cell_type": "markdown",
   "metadata": {},
   "source": [
    "<table width='100%' border='0'>\n",
    "    <tr>\n",
    "        <td><img src='images/ucd.png' width='120'></td>\n",
    "        <td><img src='images/dept_inf.png' width='350'></td>\n",
    "        <td><img src='images/fs.png' width='120'></td>\n",
    "    </tr>\n",
    "</table>"
   ]
  },
  {
   "cell_type": "markdown",
   "metadata": {},
   "source": [
    "# Langage Python : Pratique des conteneurs standards\n",
    "\n",
    "Email : <a href='mailto:madani.a@ucd.ac.ma'>madani.a@ucd.ac.ma</a>\n",
    "<img src='images/python.png' width=\"100\">"
   ]
  },
  {
   "cell_type": "markdown",
   "metadata": {},
   "source": [
    "## Exercice 1\n",
    "Définir la liste : liste = [17, 38, 10, 25, 72, 50, 80, 12, 45], puis effectuer les actions suivantes :\n",
    "<ol>\n",
    "    <li>Trier et afficher la liste</li>\n",
    "    <li>Ajouter l’élément 12 à la fin de la liste et afficher la liste</li>\n",
    "    <li>Ajouter l’élément 12 au milieu de la liste et afficher la liste</li>\n",
    "    <li>Ajouter l’élément 12 au début de la liste et afficher la liste</li>\n",
    "    <li>Renverser et afficher la liste</li>\n",
    "    <li>Afficher l’indice de l’élément 17</li>\n",
    "    <li>Enlever l’élément 30 et afficher la liste</li>\n",
    "    <li>Afficher la sous-liste du 2ème au 5ème élément</li>\n",
    "    <li>Afficher la sous-liste du 2ème au dernier élément</li>\n",
    "    <li>Afficher la sous-liste du début au 3ème élément</li>\n",
    "    <li>Vérifier l’appartenance de l’élément 25 dans la liste</li>\n",
    "</ol>"
   ]
  },
  {
   "cell_type": "code",
   "execution_count": null,
   "metadata": {},
   "outputs": [],
   "source": [
    "liste = [17, 38, 10, 25, 72, 50, 80, 12, 45]\n",
    "#Trier et afficher la liste\n",
    "liste.sort()\n",
    "print(\"Liste triée\", liste)\n",
    "#Ajouter un élément à la fin\n",
    "liste.append(12)\n",
    "print(\"Liste après ajout de 12 à la fin\", liste)\n",
    "#Ajouter un élément au début\n",
    "liste.insert(0, 100)\n",
    "print(\"Liste après ajout de 12 au début\", liste)\n",
    "#Ajouter un élément à l'indice 3\n",
    "liste.insert(3, 100)\n",
    "print(\"Liste après ajout de 12 à la position 3\", liste)\n",
    "#Renverser et afficher la liste\n",
    "liste.reverse()\n",
    "print(\"Linste inversée\", liste)\n",
    "#Indice de 12\n",
    "ind = liste.index(12)\n",
    "print(\"L'indice de 17 est\", ind)\n",
    "#Les indices de 12\n",
    "n=len(liste)\n",
    "for i in range(n):\n",
    "    if liste[i]==12:\n",
    "        print(\"indice\",i)\n",
    "#Supprimer 12\n",
    "liste.remove(12)\n",
    "print(\"Liste après suppression de 17\", liste)\n",
    "#les éléments entre 2ème élément et 5ème élement\n",
    "print(\"les éléments entre 2ème élément et 5ème élement\",liste[1:5])\n",
    "#les éléments entre 2ème élément au derniert\n",
    "print(\"les éléments entre 2ème élément au dernier\",liste[1:])\n",
    "#les éléments entre 1er élément au 3ème\n",
    "print(\"les éléments entre 1er élément au 3ème\",liste[:3])\n",
    "#25 appartient à la liste\n",
    "existe = 25 in liste\n",
    "if existe:\n",
    "    print(\"25 existe dans la liste\")\n",
    "else:\n",
    "    print(\"25 n'existe pas dans la liste\")"
   ]
  },
  {
   "cell_type": "markdown",
   "metadata": {},
   "source": [
    "## Exercice 2\n",
    "Ecrire les fonctions suivantes :\n",
    "<ol>\n",
    "    <li>remove_punctuation(phrase) : pour éliminer la ponctuation d'une chaîne de caractères ('?' , '!', ',' , '.' , ':' , ';')</li>\n",
    "    <li>lowercase(phrase) : pour convertir une chaîne de caractères en minuscule</li>\n",
    "    <li>term_frequency(phrase) : pour retourner un dictionnaire contenant pour chaque mot sa fréquence</li>\n",
    "    <li>preprocessing(chaine) : qui fait appel aux fonctions ci-dessus</li>\n",
    "    <li>refaire le preprocessing pour un fichier stocké sur le disque</li>\n",
    "</ol> "
   ]
  },
  {
   "cell_type": "code",
   "execution_count": null,
   "metadata": {},
   "outputs": [],
   "source": [
    "def remove_puntuation(phrase):\n",
    "    pont = {'?' , '!', ',' , '.' , ':' , ';'}\n",
    "    result=\"\"\n",
    "    for car in phrase:\n",
    "        if car not in pont:\n",
    "            result=result+car\n",
    "    return result"
   ]
  },
  {
   "cell_type": "code",
   "execution_count": null,
   "metadata": {},
   "outputs": [],
   "source": [
    "phrase=\"Bonjour, tout. le monde!\"\n",
    "remove_puntuation(phrase)"
   ]
  },
  {
   "cell_type": "code",
   "execution_count": null,
   "metadata": {},
   "outputs": [],
   "source": [
    "def lowercase(phrase):\n",
    "    return phrase.lower()"
   ]
  },
  {
   "cell_type": "code",
   "execution_count": null,
   "metadata": {},
   "outputs": [],
   "source": [
    "lowercase(phrase)"
   ]
  },
  {
   "cell_type": "code",
   "execution_count": null,
   "metadata": {},
   "outputs": [],
   "source": [
    "def term_frequency(phrase):\n",
    "    result={}\n",
    "    tab = phrase.split()\n",
    "    for element in tab:\n",
    "        result[element]=tab.count(element)\n",
    "    return result"
   ]
  },
  {
   "cell_type": "code",
   "execution_count": null,
   "metadata": {},
   "outputs": [],
   "source": [
    "def preprocessing(phrase):\n",
    "    phrase = remove_puntuation(phrase)\n",
    "    phrase = lowercase(phrase)\n",
    "    result = term_frequency(phrase)\n",
    "    return result"
   ]
  },
  {
   "cell_type": "code",
   "execution_count": null,
   "metadata": {},
   "outputs": [],
   "source": [
    "phrase=\"Bonjour. tout le monde, et Bonsoir le monde\"\n",
    "preprocessing(phrase)"
   ]
  },
  {
   "cell_type": "code",
   "execution_count": null,
   "metadata": {},
   "outputs": [],
   "source": [
    "def preprocessing2(fichier):\n",
    "    f=open(fichier,\"r\",encoding=\"utf8\")\n",
    "    content = f.read()\n",
    "    \n",
    "    f.close()\n",
    "    content = remove_puntuation(content)\n",
    "    content = lowercase(content)\n",
    "    result = term_frequency(content)\n",
    "    return result"
   ]
  },
  {
   "cell_type": "code",
   "execution_count": null,
   "metadata": {},
   "outputs": [],
   "source": [
    "preprocessing2(\"document.txt\")"
   ]
  },
  {
   "cell_type": "code",
   "execution_count": null,
   "metadata": {},
   "outputs": [],
   "source": [
    "from nltk.corpus import stopwords\n",
    "def remove_puntuation(phrase):\n",
    "    liste=[]\n",
    "    stop = set(stopwords.words(\"french\"))\n",
    "    tab = phrase.split()\n",
    "    for element in tab:\n",
    "        if element not in stop:\n",
    "            liste.append(element)\n",
    "    return liste"
   ]
  },
  {
   "cell_type": "code",
   "execution_count": null,
   "metadata": {},
   "outputs": [],
   "source": [
    "remove_puntuation(phrase)"
   ]
  },
  {
   "cell_type": "markdown",
   "metadata": {},
   "source": [
    "## Exercice 3\n",
    "A partir du DataSet \"Movies.csv\", afficher :\n",
    "1.\tLes noms des films\n",
    "2.\tLes films commençant par 'The'\n",
    "3.\tLes films produits en une année donnée\n",
    "4.\tLe nombre de films produits en une année donnée"
   ]
  },
  {
   "cell_type": "code",
   "execution_count": null,
   "metadata": {},
   "outputs": [],
   "source": [
    "f = open(\"movies.csv\",\"r\",encoding=\"utf8\")\n",
    "for ligne in f:\n",
    "    ligne = ligne.strip()\n",
    "    tab = ligne.split(\",\")\n",
    "    nom = tab[1]\n",
    "    print(nom)\n",
    "f.close()"
   ]
  },
  {
   "cell_type": "code",
   "execution_count": null,
   "metadata": {},
   "outputs": [],
   "source": [
    "f = open(\"movies.csv\",\"r\",encoding=\"utf8\")\n",
    "for ligne in f:\n",
    "    ligne = ligne.strip()\n",
    "    tab = ligne.split(\",\")\n",
    "    nom = tab[1]\n",
    "    if nom.startswith(\"The \"):\n",
    "        print(nom)\n",
    "f.close()"
   ]
  },
  {
   "cell_type": "code",
   "execution_count": null,
   "metadata": {},
   "outputs": [],
   "source": [
    "date = input(\"Donne la date:\")\n",
    "f = open(\"movies.csv\",\"r\",encoding=\"utf8\")\n",
    "nbre = 0\n",
    "for ligne in f:\n",
    "    ligne = ligne.strip()\n",
    "    tab = ligne.split(\",\")\n",
    "    nom = tab[1]\n",
    "    if nom.endswith(\"(\"+date+\")\"):\n",
    "        nbre+=1\n",
    "        print(nom)\n",
    "f.close()\n",
    "print(\"Le nombre de films produits en\",date,\" est \", nbre)"
   ]
  }
 ],
 "metadata": {
  "kernelspec": {
   "display_name": "Python 3",
   "language": "python",
   "name": "python3"
  },
  "language_info": {
   "codemirror_mode": {
    "name": "ipython",
    "version": 3
   },
   "file_extension": ".py",
   "mimetype": "text/x-python",
   "name": "python",
   "nbconvert_exporter": "python",
   "pygments_lexer": "ipython3",
   "version": "3.8.3"
  }
 },
 "nbformat": 4,
 "nbformat_minor": 4
}
